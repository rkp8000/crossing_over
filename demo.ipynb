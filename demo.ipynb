{
 "cells": [
  {
   "cell_type": "code",
   "execution_count": 1,
   "metadata": {},
   "outputs": [],
   "source": [
    "%matplotlib inline\n",
    "import hashlib\n",
    "import string\n",
    "import matplotlib.pyplot as plt\n",
    "import numpy as np\n",
    "\n",
    "\n",
    "A = string.ascii_letters\n",
    "M = 26\n",
    "Z = 20\n",
    "N = 100"
   ]
  },
  {
   "cell_type": "markdown",
   "metadata": {},
   "source": [
    "Key functions"
   ]
  },
  {
   "cell_type": "code",
   "execution_count": 2,
   "metadata": {},
   "outputs": [],
   "source": [
    "def gen_seed(x_k, x_l):\n",
    "    str_repr = ''.join(x_k.astype(str)) + ''.join(x_l.astype(str))\n",
    "    return int(hashlib.sha256(str_repr.encode('utf-8')).hexdigest(), 16)  % 10**9\n",
    "    \n",
    "\n",
    "def braid(x_k, x_l, q):\n",
    "    np.random.seed(gen_seed(x_k, x_l))\n",
    "    mask = np.random.rand(len(x_k)) < 1/(q+1)\n",
    "    u = x_k.copy()\n",
    "    u[mask] = x_l[mask]\n",
    "    return u\n",
    "\n",
    "\n",
    "def hamming(x_k, x_l):\n",
    "    return np.mean(x_k != x_l)"
   ]
  },
  {
   "cell_type": "markdown",
   "metadata": {},
   "source": [
    "Setup"
   ]
  },
  {
   "cell_type": "code",
   "execution_count": 3,
   "metadata": {},
   "outputs": [],
   "source": [
    "np.random.seed(1)\n",
    "x_star = np.random.randint(0, Z, N)\n",
    "xs = [np.random.randint(0, Z, N) for i in range(M)]\n",
    "\n",
    "def encode(s):\n",
    "    y = x_star.copy()\n",
    "    for i, a in enumerate(s):\n",
    "        idx = A.index(a)\n",
    "        y = braid(y, xs[idx], i+1)\n",
    "    return y\n",
    "\n",
    "\n",
    "def decode(y, l=None):\n",
    "    # get *set* of elements in sequence\n",
    "    min_idxs = np.argsort([hamming(x, y) for x in xs])[:l]\n",
    "    vs = [xs[idx] for idx in min_idxs]\n",
    "    # reconstruct sequence\n",
    "    y_star = x_star.copy()\n",
    "    s = ''\n",
    "    for i in range(1, l+1):\n",
    "        us = [braid(y_star, v, i) for v in vs]\n",
    "        j = np.argmin([hamming(u, y) for u in us])\n",
    "        s += A[min_idxs[j]]\n",
    "        y_star = braid(y_star, vs[j], i)\n",
    "    return s"
   ]
  },
  {
   "cell_type": "markdown",
   "metadata": {},
   "source": [
    "Demo"
   ]
  },
  {
   "cell_type": "code",
   "execution_count": 4,
   "metadata": {},
   "outputs": [
    {
     "name": "stdout",
     "output_type": "stream",
     "text": [
      "Hamming similarities between symbols:\n",
      "Min =  0.0\n",
      "Max =  0.13\n",
      "Mean =  0.049507692307692315\n",
      "Std =  0.023371332259792817\n"
     ]
    }
   ],
   "source": [
    "print('Hamming similarities between symbols:')\n",
    "symbol_dists = []\n",
    "for k in range(M-1):\n",
    "    for l in range(k+1, M):\n",
    "        symbol_dists.append(1 - hamming(xs[k], xs[l]))\n",
    "print('Min = ', np.min(symbol_dists))\n",
    "print('Max = ', np.max(symbol_dists))\n",
    "print('Mean = ', np.mean(symbol_dists))\n",
    "print('Std = ', np.std(symbol_dists))"
   ]
  },
  {
   "cell_type": "code",
   "execution_count": 5,
   "metadata": {},
   "outputs": [
    {
     "name": "stdout",
     "output_type": "stream",
     "text": [
      "abcde --> y -->  abcde\n",
      "abced --> y -->  abced\n",
      "aabcd --> y -->  aabcd\n",
      "zyxwv --> y -->  zyxwv\n",
      "zyxvw --> y -->  zyxvw\n",
      "aaazz --> y -->  aaazz\n"
     ]
    }
   ],
   "source": [
    "test_seqs = [\n",
    "    'abcde',\n",
    "    'abced',\n",
    "    'aabcd',\n",
    "    'zyxwv',\n",
    "    'zyxvw',\n",
    "    'aaazz',\n",
    "]\n",
    "\n",
    "for s in test_seqs:\n",
    "    print(s, '--> y --> ', decode(encode(s), 5))"
   ]
  }
 ],
 "metadata": {
  "kernelspec": {
   "display_name": "Python 3",
   "language": "python",
   "name": "python3"
  },
  "language_info": {
   "codemirror_mode": {
    "name": "ipython",
    "version": 3
   },
   "file_extension": ".py",
   "mimetype": "text/x-python",
   "name": "python",
   "nbconvert_exporter": "python",
   "pygments_lexer": "ipython3",
   "version": "3.5.2"
  }
 },
 "nbformat": 4,
 "nbformat_minor": 2
}
