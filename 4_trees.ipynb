{
 "cells": [
  {
   "cell_type": "code",
   "execution_count": 1,
   "metadata": {},
   "outputs": [],
   "source": [
    "%matplotlib inline\n",
    "import hashlib\n",
    "import matplotlib.cm as cm\n",
    "from matplotlib.cm import ScalarMappable\n",
    "import matplotlib.pyplot as plt\n",
    "import numpy as np\n",
    "\n",
    "from disp import set_font_size\n",
    "\n",
    "\n",
    "D = 'ABCDEFGHIJKLMNOPQRSTUVWXYZ'\n",
    "\n",
    "N = 1024\n",
    "Z = 8\n",
    "\n",
    "MAX_ITER = 1000\n",
    "\n",
    "def hamming(x_k, x_l):\n",
    "    return np.mean(x_k != x_l)"
   ]
  },
  {
   "cell_type": "code",
   "execution_count": 2,
   "metadata": {},
   "outputs": [],
   "source": [
    "class Encoder(object):\n",
    "    \n",
    "    \n",
    "    def __init__(self, seed, d, n, z):\n",
    "        self.seed = seed\n",
    "        \n",
    "        self.n = n\n",
    "        self.z = z\n",
    "        \n",
    "        # sample basis and mask function aux var\n",
    "        np.random.seed(seed)\n",
    "        self.xs = {s: np.random.randint(0, z, n) for s in d}\n",
    "        \n",
    "        self.seed_offset = np.random.randint(0, 2**32-1)\n",
    "    \n",
    "    \n",
    "    def veil(self, xs):\n",
    "        # get unique RNG seed from all xs\n",
    "        str_repr = ''.join([''.join(x.astype(str)) for x in xs])\n",
    "        rng_seed = int(hashlib.sha256(str_repr.encode('utf-8')).hexdigest(), 16)  % 10**9\n",
    "        \n",
    "        np.random.seed((rng_seed + self.seed_offset)%(2**32))\n",
    "        \n",
    "        return np.random.rand(len(xs[0]))\n",
    "    \n",
    "    \n",
    "    def weave(self, xs):\n",
    "        assert len(xs) >= 2\n",
    "        \n",
    "        veil = self.veil(xs)\n",
    "        u = xs[0].copy()\n",
    "        \n",
    "        for ctr, x in enumerate(xs[1:], 1):\n",
    "            mask = (ctr/len(xs) <= veil) & (veil < (ctr+1)/len(xs))\n",
    "            u[mask] = x[mask]\n",
    "        return u\n",
    "    \n",
    "    \n",
    "    def encode(self, jctns):\n",
    "        \n",
    "        xs_tmp = {}\n",
    "        \n",
    "        for jctn in jctns:\n",
    "            \n",
    "            if len(jctn) == 1:\n",
    "                xs_tmp[jctn] = self.xs[jctn[0]]\n",
    "            else:\n",
    "                xs_jctn = []\n",
    "                for s in jctn:\n",
    "\n",
    "                    if s in self.xs:\n",
    "                        xs_jctn.append(self.xs[s])\n",
    "\n",
    "                    elif s in xs_tmp:\n",
    "                        xs_jctn.append(xs_tmp[s])\n",
    "\n",
    "                xs_tmp[jctn] = self.weave(xs_jctn)\n",
    "            \n",
    "        return xs_tmp[jctns[-1]]"
   ]
  },
  {
   "cell_type": "code",
   "execution_count": 3,
   "metadata": {},
   "outputs": [
    {
     "data": {
      "image/png": "[encoded data removed]",
      "text/plain": [
       "<matplotlib.figure.Figure at 0x7f863807b748>"
      ]
     },
     "metadata": {},
     "output_type": "display_data"
    }
   ],
   "source": [
    "tree = ['AB', 'CD', ('AB', 'CD')]\n",
    "compare = ['A', 'B', 'C', 'D', 'E', 'AB', 'CD', 'AD', 'CB', 'AE', 'EF']\n",
    "n_trial = 100\n",
    "\n",
    "dsts = np.nan * np.zeros((n_trial, len(compare)))\n",
    "\n",
    "for seed in range(n_trial):\n",
    "    encoder = Encoder(seed, D, N, Z)\n",
    "    x = encoder.encode(tree)\n",
    "\n",
    "    for c_ctr, compare_ in enumerate(compare):        \n",
    "        dsts[seed, c_ctr] = hamming(x, encoder.encode([compare_]))\n",
    "        \n",
    "fig, ax = plt.subplots(1, 1, figsize=(6.5, 3.5), tight_layout=True)\n",
    "\n",
    "ax.bar(np.arange(len(compare)), dsts.mean(0), color='k', alpha=.8)\n",
    "ax.set_xticks(np.arange(len(compare)))\n",
    "ax.set_xticklabels(compare)\n",
    "ax.set_ylabel('Distance to\\nrepresentation')\n",
    "ax.set_title(tree[-1])\n",
    "\n",
    "set_font_size(ax, 16)"
   ]
  },
  {
   "cell_type": "code",
   "execution_count": 4,
   "metadata": {},
   "outputs": [
    {
     "data": {
      "image/png": "[encoded data removed]",
      "text/plain": [
       "<matplotlib.figure.Figure at 0x7f860f0ee7f0>"
      ]
     },
     "metadata": {},
     "output_type": "display_data"
    }
   ],
   "source": [
    "tree = ['AB', 'CD', 'AE', ('AB', 'CD', 'AE')]\n",
    "compare = ['A', 'B', 'C', 'D', 'E', 'F', 'AB', 'CD', 'AE', 'AD', 'CB', 'CE', 'AF', 'CF']\n",
    "n_trial = 100\n",
    "\n",
    "dsts = np.nan * np.zeros((n_trial, len(compare)))\n",
    "\n",
    "for seed in range(n_trial):\n",
    "    encoder = Encoder(seed, D, N, Z)\n",
    "    x = encoder.encode(tree)\n",
    "\n",
    "    for c_ctr, compare_ in enumerate(compare):        \n",
    "        dsts[seed, c_ctr] = hamming(x, encoder.encode([compare_]))\n",
    "        \n",
    "fig, ax = plt.subplots(1, 1, figsize=(6.5, 3.5), tight_layout=True)\n",
    "\n",
    "ax.bar(np.arange(len(compare)), dsts.mean(0), color='k', alpha=.8)\n",
    "ax.set_xticks(np.arange(len(compare)))\n",
    "ax.set_xticklabels(compare)\n",
    "ax.set_ylabel('Distance to\\nrepresentation')\n",
    "ax.set_title(tree[-1])\n",
    "\n",
    "set_font_size(ax, 16)"
   ]
  }
 ],
 "metadata": {
  "kernelspec": {
   "display_name": "Python 3",
   "language": "python",
   "name": "python3"
  },
  "language_info": {
   "codemirror_mode": {
    "name": "ipython",
    "version": 3
   },
   "file_extension": ".py",
   "mimetype": "text/x-python",
   "name": "python",
   "nbconvert_exporter": "python",
   "pygments_lexer": "ipython3",
   "version": "3.5.2"
  }
 },
 "nbformat": 4,
 "nbformat_minor": 2
}
