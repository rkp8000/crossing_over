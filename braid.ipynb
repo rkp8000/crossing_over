{
 "cells": [
  {
   "cell_type": "markdown",
   "metadata": {},
   "source": [
    "# Identically distributed vector representations with a natural metric for binary trees of arbitrary depth"
   ]
  },
  {
   "cell_type": "markdown",
   "metadata": {},
   "source": [
    "Motivation\n",
    "\n",
    "* Want reps of base items and composition function such that arbitrarily deeply nested composite reps have same distribution as base reps.\n",
    "* Trivial sln is to let every base/composite rep just be random vec, all totally unrelated. Big look up table then allows you to deconstruct every composition into items.\n",
    "* Want one more key constraint, however, that compositional structure should be apparent in the representations. Specifically, compositional rep should be \"closer\" to reps of things that compose them more than things that don't compose them.\n",
    "* Philosophy is that if we want to build ntwks that scale to arbitrarily complex compositions, want to have idea of what reps should look like before we try to build networks whose dynamics engender such reps. Note this is quite distinct from training ntwk to do some sort of computation requiring compositional information structures then taking it apart to see what the internal reps look like. "
   ]
  },
  {
   "cell_type": "markdown",
   "metadata": {},
   "source": [
    "Formal requirements\n",
    "\n",
    "Specify composition as tree structure (equivalently nested set) of depth $k$, constructed from tree-relations among set of base elements $e \\in E$, where a base element's vector representation $v^e$ is given by $v^e \\sim P^e(v) = \\underset{i} \\prod P^e(v_i)$.\n",
    "\n",
    "Then we want\n",
    "\n",
    "1. Identically distributed complexity-independent vector representations: For two trees $a$ and $b$ of arbitrary depths $k$ and $j$, respectively, we want $DKL[P(v^a)||P(v^b)] = 0$.\n",
    "\n",
    "2. Satisfying metric structure."
   ]
  },
  {
   "cell_type": "markdown",
   "metadata": {},
   "source": [
    "To do:\n",
    "\n",
    "* Prove reps are statistically identical.\n",
    "* Calc dimensionality of space spanned by representations."
   ]
  }
 ],
 "metadata": {
  "kernelspec": {
   "display_name": "Python 3",
   "language": "python",
   "name": "python3"
  },
  "language_info": {
   "codemirror_mode": {
    "name": "ipython",
    "version": 3
   },
   "file_extension": ".py",
   "mimetype": "text/x-python",
   "name": "python",
   "nbconvert_exporter": "python",
   "pygments_lexer": "ipython3",
   "version": "3.5.2"
  }
 },
 "nbformat": 4,
 "nbformat_minor": 2
}
